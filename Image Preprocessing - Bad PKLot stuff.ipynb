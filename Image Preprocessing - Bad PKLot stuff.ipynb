{
 "cells": [
  {
   "cell_type": "code",
   "execution_count": 3,
   "metadata": {},
   "outputs": [],
   "source": [
    "from pathlib import Path\n",
    "import xml.etree.ElementTree as ET\n",
    "import json\n",
    "import numpy as np\n",
    "\n",
    "import pandas as pd\n",
    "import matplotlib.pyplot as plt\n",
    "from matplotlib.patches import Patch\n",
    "import os, shutil\n",
    "import torch\n",
    "import torch.nn.functional as F\n",
    "import torchvision.transforms.functional as TF\n",
    "\n",
    "#from sklearn.model_selection import train_test_split\n",
    "from torch import nn\n",
    "from torch.utils.data.dataset import Dataset\n",
    "from torchvision import models, transforms\n",
    "from collections import defaultdict\n",
    "from random import shuffle\n",
    "from PIL import Image\n",
    "from tqdm import tqdm_notebook\n",
    "from shapely.geometry import Polygon\n",
    "\n",
    "\n",
    "import functools"
   ]
  },
  {
   "cell_type": "code",
   "execution_count": 4,
   "metadata": {},
   "outputs": [],
   "source": [
    "def getDictFromXml(filePath):\n",
    "    tree = ET.parse(filePath)\n",
    "    root = tree.getroot()\n",
    "    \n",
    "    parking = root.attrib\n",
    "    parking['spaces'] = []\n",
    "    for space in root.findall('space'):\n",
    "        sp = {}\n",
    "        sp['id'] = space.attrib['id']\n",
    "        \n",
    "        sp['occupied'] = space.attrib.get('occupied', 0)\n",
    "        sp['rotatedRect'] = {}\n",
    "\n",
    "        for point in space.find('rotatedRect'):\n",
    "            sp['rotatedRect'][point.tag] = point.attrib\n",
    "\n",
    "        sp['contour'] = []\n",
    "\n",
    "        for point in space.find('contour'):\n",
    "            sp['contour'].append(point.attrib)\n",
    "            \n",
    "        parking['spaces'].append(sp)\n",
    "    \n",
    "    return parking\n",
    "    "
   ]
  },
  {
   "cell_type": "code",
   "execution_count": 5,
   "metadata": {},
   "outputs": [],
   "source": [
    "def show_img(image, figsize=None, ax=None):\n",
    "    if not ax: \n",
    "        fig,ax = plt.subplots(figsize=figsize)\n",
    "    ax.imshow(np.transpose(image, (1, 2, 0)), zorder=1)\n",
    "    ax.grid()\n",
    "    ax.set_yticklabels([])\n",
    "    ax.set_xticklabels([])\n",
    "    return ax\n",
    "\n",
    "def to_corner(cx, cy, w, h, a, up, right):\n",
    "    theta = a.double() * np.pi / 180 \n",
    "    # cx, cy - center of square coordinates\n",
    "    # x, y - coordinates of a corner point of the square\n",
    "    # theta is the angle of rotation\n",
    "    if up:\n",
    "        y = cy + (h / 2)\n",
    "    else:\n",
    "        y = cy - (h / 2)\n",
    "\n",
    "    if right:\n",
    "        x = cx + (w / 2)\n",
    "    else:\n",
    "        x = cx - (w / 2)\n",
    "\n",
    "    # translate point to origin\n",
    "    temp_x = x - cx\n",
    "    temp_y = y - cy\n",
    "\n",
    "    # now apply rotation\n",
    "    rotated_x = temp_x * np.cos(theta) - temp_y * np.sin(theta)\n",
    "    rotated_y = temp_x * np.sin(theta) + temp_y * np.cos(theta)\n",
    "\n",
    "    # translate back\n",
    "    x_prime = rotated_x + cx\n",
    "    y_prime = rotated_y + cy\n",
    "    \n",
    "    return x_prime, y_prime\n",
    "\n",
    "def create_polygon(cx, cy, w, h, a):\n",
    "    return Polygon([to_corner(cx, cy, w, h, a, up, right) for up, right in \n",
    "                    [(True, False), (True, True), (False, True), (False, False)]])\n",
    "\n",
    "def create_polygon_list(rotated_bboxes):\n",
    "    return [create_polygon(box[0], box[1], box[3], box[2], box[4]) for box in rotated_bboxes]\n",
    "\n",
    "def draw_poly(ax, poly, c='black', linewidth=2):\n",
    "    x,y = poly.exterior.xy\n",
    "    ax.plot(x, y, color=c, alpha=0.7, linewidth=linewidth, solid_capstyle='round', zorder=2)\n",
    "\n",
    "def show_truth(image, rotated_bboxes, labels, ax, linewidth=1):\n",
    "    polygons = create_polygon_list(rotated_bboxes)\n",
    "    labels = [int(num) for num in labels.tolist()]\n",
    "    show_img(image, ax=ax)\n",
    "    \n",
    "    legend_elements = [Patch(edgecolor='g', label='Occupied', fill=False), \n",
    "                       Patch(edgecolor='r', label='Empty', fill=False)]\n",
    "    ax.legend(handles=legend_elements, loc='upper right')\n",
    "    \n",
    "    color_map = {0: 'r', 1: 'g'}\n",
    "\n",
    "    for i, poly in enumerate(polygons):\n",
    "        draw_poly(ax, poly, c=color_map[labels[i]], linewidth=linewidth)"
   ]
  },
  {
   "cell_type": "code",
   "execution_count": 6,
   "metadata": {
    "scrolled": false
   },
   "outputs": [
    {
     "name": "stdout",
     "output_type": "stream",
     "text": [
      "# of images:  4474\n"
     ]
    },
    {
     "data": {
      "application/vnd.jupyter.widget-view+json": {
       "model_id": "159e47cc0c1e4157864ee98e2fcab00a",
       "version_major": 2,
       "version_minor": 0
      },
      "text/plain": [
       "HBox(children=(IntProgress(value=0, max=4474), HTML(value='')))"
      ]
     },
     "metadata": {},
     "output_type": "display_data"
    },
    {
     "name": "stdout",
     "output_type": "stream",
     "text": [
      "File not found!\n",
      "\n"
     ]
    }
   ],
   "source": [
    "parking_lots = [\"PUCPR\"]\n",
    "# \"PUCPR\": (192, 492, 353, 1170)\n",
    "# assuming all pictures have same size crop\n",
    "parking_crop = {\"PUCPR\": [(353, 954, 192, 492)]}\n",
    "\n",
    "\n",
    "for bdpk in parking_lots:\n",
    "    pic_paths = Path().glob(f\"PKLot/AugPKLot/{bdpk}/*/*/*.jpg\")\n",
    "    pic_paths = list(pic_paths)\n",
    "    print('# of images: ', len(pic_paths))\n",
    "    \n",
    "    datalist = {'image_path': [], 'occupied': [], 'rotated_bbox': []}\n",
    "    \n",
    "    for picp in tqdm_notebook(pic_paths):\n",
    "        \n",
    "        try:\n",
    "            xmlp = picp.with_suffix('.xml')\n",
    "            spaces = getDictFromXml(xmlp)['spaces']\n",
    "        except:\n",
    "            print('File not found!')\n",
    "            continue\n",
    "    \n",
    "        rotated_bbox = []\n",
    "        occupied = []\n",
    "        for sp in spaces:\n",
    "            rbox = (int(sp['rotatedRect']['center']['x']),\n",
    "                    int(sp['rotatedRect']['center']['y']),\n",
    "                    int(sp['rotatedRect']['size']['h']),\n",
    "                    int(sp['rotatedRect']['size']['w']),\n",
    "                    int(sp['rotatedRect']['angle']['d']))\n",
    "            rotated_bbox.append(rbox)\n",
    "            occupied.append(int(sp['occupied']))\n",
    "    \n",
    "    \n",
    "\n",
    "        pic = plt.imread(picp)\n",
    "        mypic = Image.open(picp)\n",
    "        \n",
    "        \n",
    "        pklot_crop = parking_crop[bdpk]\n",
    "        num_crops = len(pklot_crop)\n",
    "        size_x = pklot_crop[0][1] - pklot_crop[0][0]\n",
    "        size_y = pklot_crop[0][3] - pklot_crop[0][2]\n",
    "\n",
    "        cropped_pics = np.zeros((size_x, size_y, 3), dtype=np.int)\n",
    "\n",
    "        for i, (x1, x2, y1, y2) in enumerate(pklot_crop):\n",
    "            if pic.shape[0] == 300:\n",
    "                pass\n",
    "            else:\n",
    "                cropped_pics = pic[y1:y2, x1:x2, :]\n",
    "                plt.imsave(picp, cropped_pics)\n",
    "\n",
    "            crop_spaces = []\n",
    "            crop_occp = []\n",
    "            for i, (cx,cy,h,w,a) in enumerate(rotated_bbox):\n",
    "                if x1 < cx and cx < x2 and y1 < cy and cy < y2:\n",
    "                    crop_occp.append(occupied[i])\n",
    "                    crop_spaces.append([cx - x1,cy - y1,h,w,a])\n",
    "        \n",
    "#         ax = show_img(TF.to_tensor(mypic))\n",
    "#         for poly in create_polygon_list(torch.Tensor(crop_spaces)):\n",
    "#             draw_poly(ax, poly)\n",
    "        \n",
    "#         plt.show()\n",
    "        \n",
    "        occupied = ' '.join(map(lambda x: str(x), crop_occp))\n",
    "        rotated_bbox = ' '.join(map(lambda x: ' '.join(map(lambda y: str(y), x)), crop_spaces))\n",
    "        \n",
    "        \n",
    "        datalist['image_path'].append(picp)\n",
    "        datalist['occupied'].append(occupied)\n",
    "        datalist['rotated_bbox'].append(rotated_bbox)\n",
    "        \n",
    "        \n",
    "    \n",
    "    \n",
    "    \n",
    "    data = pd.DataFrame({'image_path': datalist['image_path'], \n",
    "                         'occupied': datalist['occupied'],\n",
    "                         'rotated_bbox': datalist['rotated_bbox']\n",
    "                        })\n"
   ]
  },
  {
   "cell_type": "code",
   "execution_count": 7,
   "metadata": {},
   "outputs": [
    {
     "data": {
      "text/html": [
       "<div>\n",
       "<style scoped>\n",
       "    .dataframe tbody tr th:only-of-type {\n",
       "        vertical-align: middle;\n",
       "    }\n",
       "\n",
       "    .dataframe tbody tr th {\n",
       "        vertical-align: top;\n",
       "    }\n",
       "\n",
       "    .dataframe thead th {\n",
       "        text-align: right;\n",
       "    }\n",
       "</style>\n",
       "<table border=\"1\" class=\"dataframe\">\n",
       "  <thead>\n",
       "    <tr style=\"text-align: right;\">\n",
       "      <th></th>\n",
       "      <th>image_path</th>\n",
       "      <th>occupied</th>\n",
       "      <th>rotated_bbox</th>\n",
       "    </tr>\n",
       "  </thead>\n",
       "  <tbody>\n",
       "    <tr>\n",
       "      <th>0</th>\n",
       "      <td>PKLot/AugPKLot/PUCPR/Rainy/2012-11-10/2012-11-...</td>\n",
       "      <td>1 1 1 1 1 1 1 1 1 1 1 1 1 1 1 1 1 1 1 1 1 1 1 ...</td>\n",
       "      <td>13 16 32 52 -77 45 15 36 54 -79 77 18 31 50 -7...</td>\n",
       "    </tr>\n",
       "    <tr>\n",
       "      <th>1</th>\n",
       "      <td>PKLot/AugPKLot/PUCPR/Rainy/2012-11-10/2012-11-...</td>\n",
       "      <td>1 1 1 1 1 1 1 1 1 1 1 1 1 1 1 1 1 1 1 1 1 1 1 ...</td>\n",
       "      <td>13 16 32 52 -77 45 15 36 54 -79 77 18 31 50 -7...</td>\n",
       "    </tr>\n",
       "    <tr>\n",
       "      <th>2</th>\n",
       "      <td>PKLot/AugPKLot/PUCPR/Rainy/2012-11-10/2012-11-...</td>\n",
       "      <td>1 1 1 1 1 1 1 1 1 1 1 1 1 1 1 1 1 1 1 1 1 1 1 ...</td>\n",
       "      <td>13 16 32 52 -77 45 15 36 54 -79 77 18 31 50 -7...</td>\n",
       "    </tr>\n",
       "    <tr>\n",
       "      <th>3</th>\n",
       "      <td>PKLot/AugPKLot/PUCPR/Rainy/2012-11-10/2012-11-...</td>\n",
       "      <td>0 0 0 0 0 0 0 0 0 0 0 0 0 0 0 0 0 0 0 0 0 0 0 ...</td>\n",
       "      <td>13 16 32 52 -77 45 15 36 54 -79 77 18 31 50 -7...</td>\n",
       "    </tr>\n",
       "    <tr>\n",
       "      <th>4</th>\n",
       "      <td>PKLot/AugPKLot/PUCPR/Rainy/2012-11-10/2012-11-...</td>\n",
       "      <td>1 1 1 1 1 1 1 1 1 1 1 1 1 1 1 1 1 1 1 1 1 1 1 ...</td>\n",
       "      <td>13 16 32 52 -77 45 15 36 54 -79 77 18 31 50 -7...</td>\n",
       "    </tr>\n",
       "  </tbody>\n",
       "</table>\n",
       "</div>"
      ],
      "text/plain": [
       "                                          image_path  \\\n",
       "0  PKLot/AugPKLot/PUCPR/Rainy/2012-11-10/2012-11-...   \n",
       "1  PKLot/AugPKLot/PUCPR/Rainy/2012-11-10/2012-11-...   \n",
       "2  PKLot/AugPKLot/PUCPR/Rainy/2012-11-10/2012-11-...   \n",
       "3  PKLot/AugPKLot/PUCPR/Rainy/2012-11-10/2012-11-...   \n",
       "4  PKLot/AugPKLot/PUCPR/Rainy/2012-11-10/2012-11-...   \n",
       "\n",
       "                                            occupied  \\\n",
       "0  1 1 1 1 1 1 1 1 1 1 1 1 1 1 1 1 1 1 1 1 1 1 1 ...   \n",
       "1  1 1 1 1 1 1 1 1 1 1 1 1 1 1 1 1 1 1 1 1 1 1 1 ...   \n",
       "2  1 1 1 1 1 1 1 1 1 1 1 1 1 1 1 1 1 1 1 1 1 1 1 ...   \n",
       "3  0 0 0 0 0 0 0 0 0 0 0 0 0 0 0 0 0 0 0 0 0 0 0 ...   \n",
       "4  1 1 1 1 1 1 1 1 1 1 1 1 1 1 1 1 1 1 1 1 1 1 1 ...   \n",
       "\n",
       "                                        rotated_bbox  \n",
       "0  13 16 32 52 -77 45 15 36 54 -79 77 18 31 50 -7...  \n",
       "1  13 16 32 52 -77 45 15 36 54 -79 77 18 31 50 -7...  \n",
       "2  13 16 32 52 -77 45 15 36 54 -79 77 18 31 50 -7...  \n",
       "3  13 16 32 52 -77 45 15 36 54 -79 77 18 31 50 -7...  \n",
       "4  13 16 32 52 -77 45 15 36 54 -79 77 18 31 50 -7...  "
      ]
     },
     "execution_count": 7,
     "metadata": {},
     "output_type": "execute_result"
    }
   ],
   "source": [
    "data.head()"
   ]
  },
  {
   "cell_type": "code",
   "execution_count": 8,
   "metadata": {},
   "outputs": [
    {
     "name": "stdout",
     "output_type": "stream",
     "text": [
      "4473\n"
     ]
    }
   ],
   "source": [
    "print(len(datalist['image_path']))"
   ]
  },
  {
   "cell_type": "code",
   "execution_count": 9,
   "metadata": {},
   "outputs": [
    {
     "data": {
      "text/plain": [
       "(4473, 3)"
      ]
     },
     "execution_count": 9,
     "metadata": {},
     "output_type": "execute_result"
    }
   ],
   "source": [
    "data.shape"
   ]
  },
  {
   "cell_type": "code",
   "execution_count": 10,
   "metadata": {},
   "outputs": [],
   "source": [
    "data.to_csv('PUCPR_cropped.csv', index=False)"
   ]
  },
  {
   "cell_type": "code",
   "execution_count": null,
   "metadata": {},
   "outputs": [],
   "source": []
  }
 ],
 "metadata": {
  "kernelspec": {
   "display_name": "Python 3",
   "language": "python",
   "name": "python3"
  },
  "language_info": {
   "codemirror_mode": {
    "name": "ipython",
    "version": 3
   },
   "file_extension": ".py",
   "mimetype": "text/x-python",
   "name": "python",
   "nbconvert_exporter": "python",
   "pygments_lexer": "ipython3",
   "version": "3.6.8"
  }
 },
 "nbformat": 4,
 "nbformat_minor": 2
}
