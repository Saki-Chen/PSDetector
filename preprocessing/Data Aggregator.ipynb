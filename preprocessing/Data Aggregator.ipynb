{
 "cells": [
  {
   "cell_type": "code",
   "execution_count": 8,
   "metadata": {},
   "outputs": [],
   "source": [
    "import pandas as pd\n",
    "import numpy as np\n",
    "import matplotlib.pyplot as plt\n",
    "import cv2\n",
    "import json\n",
    "\n",
    "from tqdm import tqdm_notebook\n",
    "from glob import glob\n",
    "from pathlib import Path\n",
    "#from keras.preprocessing.image import ImageDataGenerator, array_to_img, img_to_array, load_img, image\n",
    "\n",
    "%matplotlib inline                               "
   ]
  },
  {
   "cell_type": "code",
   "execution_count": 15,
   "metadata": {},
   "outputs": [],
   "source": [
    "pklot_path_list = list(Path('.').glob('PKLot/PKLot/*/*/*/*.jpg'))\n",
    "json_path_list = list(Path('.').glob('json/*.json'))"
   ]
  },
  {
   "cell_type": "code",
   "execution_count": 16,
   "metadata": {},
   "outputs": [],
   "source": [
    "pklot_df = pd.DataFrame({'image_path': pklot_path_list})\n",
    "json_df = pd.DataFrame({'json_path': json_path_list})"
   ]
  },
  {
   "cell_type": "code",
   "execution_count": 17,
   "metadata": {},
   "outputs": [],
   "source": [
    "pklot_df['date_id'] = pklot_df['image_path'].map(lambda x: x.stem)\n",
    "json_df['date_id'] = json_df['json_path'].map(lambda x: x.stem)"
   ]
  },
  {
   "cell_type": "code",
   "execution_count": 19,
   "metadata": {},
   "outputs": [],
   "source": [
    "new_df = pklot_df.merge(json_df, left_on='date_id', right_on='date_id', how='inner')"
   ]
  },
  {
   "cell_type": "markdown",
   "metadata": {},
   "source": [
    "datagen = ImageDataGenerator(\n",
    "        rotation_range=40,\n",
    "        width_shift_range=0.2,\n",
    "        height_shift_range=0.2,\n",
    "        shear_range=0.2,\n",
    "        zoom_range=0.2,\n",
    "        horizontal_flip=True,\n",
    "        fill_mode='nearest')\n",
    "\n",
    "img = load_img(pklot_files[0], target_size=(150, 150))  # this is a PIL image\n",
    "x = img_to_array(img)  # this is a Numpy array with shape (3, 150, 150)\n",
    "x = x.reshape((1,) + x.shape)  # this is a Numpy array with shape (1, 3, 150, 150)"
   ]
  },
  {
   "cell_type": "markdown",
   "metadata": {},
   "source": [
    "i = 0\n",
    "for batch in datagen.flow(x, batch_size=1):\n",
    "    plt.figure(i)\n",
    "    imgplot = plt.imshow(image.array_to_img(batch[0]))\n",
    "    i += 1\n",
    "    if i % 4 == 0:\n",
    "        break"
   ]
  },
  {
   "cell_type": "code",
   "execution_count": 31,
   "metadata": {},
   "outputs": [],
   "source": [
    "def jsonToList(pklot_file, json_file):\n",
    "    data_list = []\n",
    "\n",
    "    with open(json_file, 'r') as json_data:\n",
    "        for line in json_data:\n",
    "            row = json.loads(line)\n",
    "            for segmented_data in row['spaces']:\n",
    "                segmented_data['image_path'] = pklot_file\n",
    "                segmented_data['json_path'] = json_file\n",
    "                segmented_data['date_id'] = pklot_file.stem\n",
    "                segmented_data['rotated_rect_degree'] = segmented_data['rotatedRect']['angle']['d']\n",
    "                segmented_data['rotated_rect_center_x'] = segmented_data['rotatedRect']['center']['x']\n",
    "                segmented_data['rotated_rect_center_y'] = segmented_data['rotatedRect']['center']['y']\n",
    "                segmented_data['rotated_rect_height'] = segmented_data['rotatedRect']['size']['h']\n",
    "                segmented_data['rotated_rect_width'] = segmented_data['rotatedRect']['size']['w']\n",
    "                \n",
    "                segmented_data.pop('rotatedRect')\n",
    "                data_list.append(segmented_data)\n",
    "    return data_list"
   ]
  },
  {
   "cell_type": "code",
   "execution_count": 32,
   "metadata": {},
   "outputs": [
    {
     "data": {
      "application/vnd.jupyter.widget-view+json": {
       "model_id": "3f09751c2e454f69b077de8dee9447d3",
       "version_major": 2,
       "version_minor": 0
      },
      "text/plain": [
       "HBox(children=(IntProgress(value=0, max=12417), HTML(value='')))"
      ]
     },
     "metadata": {},
     "output_type": "display_data"
    },
    {
     "name": "stdout",
     "output_type": "stream",
     "text": [
      "\n"
     ]
    }
   ],
   "source": [
    "data = []\n",
    "\n",
    "for pklot_path, json_path in tqdm_notebook(zip(new_df['image_path'], new_df['json_path']), total=12417):\n",
    "    data.extend(jsonToList(pklot_path, json_path))"
   ]
  },
  {
   "cell_type": "code",
   "execution_count": 34,
   "metadata": {},
   "outputs": [],
   "source": [
    "pklot_df = pd.DataFrame(data)"
   ]
  },
  {
   "cell_type": "code",
   "execution_count": 38,
   "metadata": {},
   "outputs": [],
   "source": [
    "pklot_df.rename(columns={'id': 'parking_id'}, inplace=True)"
   ]
  },
  {
   "cell_type": "code",
   "execution_count": 39,
   "metadata": {},
   "outputs": [
    {
     "data": {
      "text/html": [
       "<div>\n",
       "<style scoped>\n",
       "    .dataframe tbody tr th:only-of-type {\n",
       "        vertical-align: middle;\n",
       "    }\n",
       "\n",
       "    .dataframe tbody tr th {\n",
       "        vertical-align: top;\n",
       "    }\n",
       "\n",
       "    .dataframe thead th {\n",
       "        text-align: right;\n",
       "    }\n",
       "</style>\n",
       "<table border=\"1\" class=\"dataframe\">\n",
       "  <thead>\n",
       "    <tr style=\"text-align: right;\">\n",
       "      <th></th>\n",
       "      <th>contour</th>\n",
       "      <th>date_id</th>\n",
       "      <th>parking_id</th>\n",
       "      <th>image_path</th>\n",
       "      <th>json_path</th>\n",
       "      <th>occupied</th>\n",
       "      <th>rotated_rect_center_x</th>\n",
       "      <th>rotated_rect_center_y</th>\n",
       "      <th>rotated_rect_degree</th>\n",
       "      <th>rotated_rect_height</th>\n",
       "      <th>rotated_rect_width</th>\n",
       "    </tr>\n",
       "  </thead>\n",
       "  <tbody>\n",
       "    <tr>\n",
       "      <th>0</th>\n",
       "      <td>[{'x': '641', 'y': '570'}, {'x': '726', 'y': '...</td>\n",
       "      <td>2013-01-18_18_35_15</td>\n",
       "      <td>1</td>\n",
       "      <td>PKLot/PKLot/UFPR04/Rainy/2013-01-18/2013-01-18...</td>\n",
       "      <td>json/2013-01-18_18_35_15.json</td>\n",
       "      <td>0</td>\n",
       "      <td>651</td>\n",
       "      <td>636</td>\n",
       "      <td>-34</td>\n",
       "      <td>141</td>\n",
       "      <td>83</td>\n",
       "    </tr>\n",
       "    <tr>\n",
       "      <th>1</th>\n",
       "      <td>[{'x': '698', 'y': '505'}, {'x': '782', 'y': '...</td>\n",
       "      <td>2013-01-18_18_35_15</td>\n",
       "      <td>2</td>\n",
       "      <td>PKLot/PKLot/UFPR04/Rainy/2013-01-18/2013-01-18...</td>\n",
       "      <td>json/2013-01-18_18_35_15.json</td>\n",
       "      <td>1</td>\n",
       "      <td>705</td>\n",
       "      <td>563</td>\n",
       "      <td>-44</td>\n",
       "      <td>139</td>\n",
       "      <td>77</td>\n",
       "    </tr>\n",
       "    <tr>\n",
       "      <th>2</th>\n",
       "      <td>[{'x': '719', 'y': '427'}, {'x': '799', 'y': '...</td>\n",
       "      <td>2013-01-18_18_35_15</td>\n",
       "      <td>3</td>\n",
       "      <td>PKLot/PKLot/UFPR04/Rainy/2013-01-18/2013-01-18...</td>\n",
       "      <td>json/2013-01-18_18_35_15.json</td>\n",
       "      <td>1</td>\n",
       "      <td>732</td>\n",
       "      <td>480</td>\n",
       "      <td>-48</td>\n",
       "      <td>124</td>\n",
       "      <td>60</td>\n",
       "    </tr>\n",
       "    <tr>\n",
       "      <th>3</th>\n",
       "      <td>[{'x': '754', 'y': '367'}, {'x': '824', 'y': '...</td>\n",
       "      <td>2013-01-18_18_35_15</td>\n",
       "      <td>4</td>\n",
       "      <td>PKLot/PKLot/UFPR04/Rainy/2013-01-18/2013-01-18...</td>\n",
       "      <td>json/2013-01-18_18_35_15.json</td>\n",
       "      <td>0</td>\n",
       "      <td>762</td>\n",
       "      <td>409</td>\n",
       "      <td>-51</td>\n",
       "      <td>113</td>\n",
       "      <td>54</td>\n",
       "    </tr>\n",
       "    <tr>\n",
       "      <th>4</th>\n",
       "      <td>[{'x': '767', 'y': '313'}, {'x': '833', 'y': '...</td>\n",
       "      <td>2013-01-18_18_35_15</td>\n",
       "      <td>5</td>\n",
       "      <td>PKLot/PKLot/UFPR04/Rainy/2013-01-18/2013-01-18...</td>\n",
       "      <td>json/2013-01-18_18_35_15.json</td>\n",
       "      <td>0</td>\n",
       "      <td>773</td>\n",
       "      <td>346</td>\n",
       "      <td>-56</td>\n",
       "      <td>109</td>\n",
       "      <td>49</td>\n",
       "    </tr>\n",
       "  </tbody>\n",
       "</table>\n",
       "</div>"
      ],
      "text/plain": [
       "                                             contour              date_id  \\\n",
       "0  [{'x': '641', 'y': '570'}, {'x': '726', 'y': '...  2013-01-18_18_35_15   \n",
       "1  [{'x': '698', 'y': '505'}, {'x': '782', 'y': '...  2013-01-18_18_35_15   \n",
       "2  [{'x': '719', 'y': '427'}, {'x': '799', 'y': '...  2013-01-18_18_35_15   \n",
       "3  [{'x': '754', 'y': '367'}, {'x': '824', 'y': '...  2013-01-18_18_35_15   \n",
       "4  [{'x': '767', 'y': '313'}, {'x': '833', 'y': '...  2013-01-18_18_35_15   \n",
       "\n",
       "  parking_id                                         image_path  \\\n",
       "0          1  PKLot/PKLot/UFPR04/Rainy/2013-01-18/2013-01-18...   \n",
       "1          2  PKLot/PKLot/UFPR04/Rainy/2013-01-18/2013-01-18...   \n",
       "2          3  PKLot/PKLot/UFPR04/Rainy/2013-01-18/2013-01-18...   \n",
       "3          4  PKLot/PKLot/UFPR04/Rainy/2013-01-18/2013-01-18...   \n",
       "4          5  PKLot/PKLot/UFPR04/Rainy/2013-01-18/2013-01-18...   \n",
       "\n",
       "                       json_path occupied rotated_rect_center_x  \\\n",
       "0  json/2013-01-18_18_35_15.json        0                   651   \n",
       "1  json/2013-01-18_18_35_15.json        1                   705   \n",
       "2  json/2013-01-18_18_35_15.json        1                   732   \n",
       "3  json/2013-01-18_18_35_15.json        0                   762   \n",
       "4  json/2013-01-18_18_35_15.json        0                   773   \n",
       "\n",
       "  rotated_rect_center_y rotated_rect_degree rotated_rect_height  \\\n",
       "0                   636                 -34                 141   \n",
       "1                   563                 -44                 139   \n",
       "2                   480                 -48                 124   \n",
       "3                   409                 -51                 113   \n",
       "4                   346                 -56                 109   \n",
       "\n",
       "  rotated_rect_width  \n",
       "0                 83  \n",
       "1                 77  \n",
       "2                 60  \n",
       "3                 54  \n",
       "4                 49  "
      ]
     },
     "execution_count": 39,
     "metadata": {},
     "output_type": "execute_result"
    }
   ],
   "source": [
    "pklot_df.head()"
   ]
  },
  {
   "cell_type": "code",
   "execution_count": 40,
   "metadata": {},
   "outputs": [],
   "source": [
    "pklot_df.to_csv('pklot_formatted_data.csv', index=False)"
   ]
  },
  {
   "cell_type": "code",
   "execution_count": null,
   "metadata": {},
   "outputs": [],
   "source": []
  }
 ],
 "metadata": {
  "kernelspec": {
   "display_name": "Python 3",
   "language": "python",
   "name": "python3"
  },
  "language_info": {
   "codemirror_mode": {
    "name": "ipython",
    "version": 3
   },
   "file_extension": ".py",
   "mimetype": "text/x-python",
   "name": "python",
   "nbconvert_exporter": "python",
   "pygments_lexer": "ipython3",
   "version": "3.6.8"
  }
 },
 "nbformat": 4,
 "nbformat_minor": 2
}
