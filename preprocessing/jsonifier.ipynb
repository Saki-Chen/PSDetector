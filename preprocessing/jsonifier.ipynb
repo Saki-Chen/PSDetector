{
 "cells": [
  {
   "cell_type": "code",
   "execution_count": 1,
   "metadata": {},
   "outputs": [],
   "source": [
    "import xml.etree.ElementTree as ET\n",
    "import json\n",
    "from pathlib import Path"
   ]
  },
  {
   "cell_type": "markdown",
   "metadata": {},
   "source": [
    "The follwoing code is used to convert XML to JSON data."
   ]
  },
  {
   "cell_type": "code",
   "execution_count": 2,
   "metadata": {},
   "outputs": [],
   "source": [
    "p = Path('.')\n",
    "xmlList = list(p.glob('./PKLot/PKLot/**/*.xml'))"
   ]
  },
  {
   "cell_type": "code",
   "execution_count": 3,
   "metadata": {},
   "outputs": [],
   "source": [
    "def saveXmlAsJson(filePath, fileName):\n",
    "    tree = ET.parse(filePath)\n",
    "    root = tree.getroot()\n",
    "    \n",
    "    parking = root.attrib\n",
    "    parking['spaces'] = []\n",
    "    for space in root.findall('space'):\n",
    "        sp = {}\n",
    "        sp['id'] = space.attrib['id']\n",
    "        \n",
    "        sp['occupied'] = space.attrib.get('occupied', 0)\n",
    "        sp['rotatedRect'] = {}\n",
    "\n",
    "        for point in space.find('rotatedRect'):\n",
    "            sp['rotatedRect'][point.tag] = point.attrib\n",
    "\n",
    "        sp['contour'] = []\n",
    "\n",
    "        for point in space.find('contour'):\n",
    "            sp['contour'].append(point.attrib)\n",
    "            \n",
    "        parking['spaces'].append(sp)\n",
    "    \n",
    "    jsonName = \"./json/{}.json\".format(fileName);\n",
    "    with open(jsonName, 'w') as outfile:\n",
    "        json.dump(parking, outfile)\n"
   ]
  },
  {
   "cell_type": "code",
   "execution_count": 5,
   "metadata": {},
   "outputs": [],
   "source": [
    "!mkdir json"
   ]
  },
  {
   "cell_type": "code",
   "execution_count": 6,
   "metadata": {},
   "outputs": [],
   "source": [
    "for xmlFile in xmlList:\n",
    "    saveXmlAsJson(str(xmlFile), xmlFile.stem)"
   ]
  }
 ],
 "metadata": {
  "kernelspec": {
   "display_name": "Python 3",
   "language": "python",
   "name": "python3"
  },
  "language_info": {
   "codemirror_mode": {
    "name": "ipython",
    "version": 3
   },
   "file_extension": ".py",
   "mimetype": "text/x-python",
   "name": "python",
   "nbconvert_exporter": "python",
   "pygments_lexer": "ipython3",
   "version": "3.6.8"
  }
 },
 "nbformat": 4,
 "nbformat_minor": 2
}
