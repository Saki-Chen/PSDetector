{
 "cells": [
  {
   "cell_type": "code",
   "execution_count": 1,
   "metadata": {},
   "outputs": [],
   "source": [
    "import pandas as pd\n",
    "import numpy as np\n",
    "import matplotlib.pyplot as plt\n",
    "import cv2\n",
    "import json\n",
    "\n",
    "from tqdm import tqdm_notebook\n",
    "from glob import glob\n",
    "from pathlib import Path\n",
    "#from keras.preprocessing.image import ImageDataGenerator, array_to_img, img_to_array, load_img, image\n",
    "\n",
    "%matplotlib inline                               "
   ]
  },
  {
   "cell_type": "code",
   "execution_count": 2,
   "metadata": {},
   "outputs": [],
   "source": [
    "pklot_path_list = list(Path('.').glob('PKLot/PKLot/*/*/*/*.jpg'))\n",
    "json_path_list = list(Path('.').glob('json/*.json'))"
   ]
  },
  {
   "cell_type": "code",
   "execution_count": 6,
   "metadata": {},
   "outputs": [
    {
     "data": {
      "text/plain": [
       "7943"
      ]
     },
     "execution_count": 6,
     "metadata": {},
     "output_type": "execute_result"
    }
   ],
   "source": [
    "len(pklot_path_list)"
   ]
  },
  {
   "cell_type": "code",
   "execution_count": 7,
   "metadata": {},
   "outputs": [],
   "source": [
    "pklot_df = pd.DataFrame({'image_path': pklot_path_list})\n",
    "json_df = pd.DataFrame({'json_path': json_path_list})"
   ]
  },
  {
   "cell_type": "code",
   "execution_count": 8,
   "metadata": {},
   "outputs": [],
   "source": [
    "pklot_df['date_id'] = pklot_df['image_path'].map(lambda x: x.stem)\n",
    "json_df['date_id'] = json_df['json_path'].map(lambda x: x.stem)"
   ]
  },
  {
   "cell_type": "code",
   "execution_count": 9,
   "metadata": {},
   "outputs": [],
   "source": [
    "new_df = pklot_df.merge(json_df, left_on='date_id', right_on='date_id', how='inner')"
   ]
  },
  {
   "cell_type": "markdown",
   "metadata": {},
   "source": [
    "datagen = ImageDataGenerator(\n",
    "        rotation_range=40,\n",
    "        width_shift_range=0.2,\n",
    "        height_shift_range=0.2,\n",
    "        shear_range=0.2,\n",
    "        zoom_range=0.2,\n",
    "        horizontal_flip=True,\n",
    "        fill_mode='nearest')\n",
    "\n",
    "img = load_img(pklot_files[0], target_size=(150, 150))  # this is a PIL image\n",
    "x = img_to_array(img)  # this is a Numpy array with shape (3, 150, 150)\n",
    "x = x.reshape((1,) + x.shape)  # this is a Numpy array with shape (1, 3, 150, 150)"
   ]
  },
  {
   "cell_type": "markdown",
   "metadata": {},
   "source": [
    "i = 0\n",
    "for batch in datagen.flow(x, batch_size=1):\n",
    "    plt.figure(i)\n",
    "    imgplot = plt.imshow(image.array_to_img(batch[0]))\n",
    "    i += 1\n",
    "    if i % 4 == 0:\n",
    "        break"
   ]
  },
  {
   "cell_type": "code",
   "execution_count": 10,
   "metadata": {},
   "outputs": [
    {
     "name": "stdout",
     "output_type": "stream",
     "text": [
      "<class 'pandas.core.frame.DataFrame'>\n",
      "Int64Index: 7943 entries, 0 to 7942\n",
      "Data columns (total 3 columns):\n",
      "image_path    7943 non-null object\n",
      "date_id       7943 non-null object\n",
      "json_path     7943 non-null object\n",
      "dtypes: object(3)\n",
      "memory usage: 248.2+ KB\n"
     ]
    }
   ],
   "source": [
    "new_df.info()"
   ]
  },
  {
   "cell_type": "code",
   "execution_count": 11,
   "metadata": {},
   "outputs": [],
   "source": [
    "def jsonToList(pklot_file, json_file):\n",
    "    bbox_list = []\n",
    "    class_list = []\n",
    "    contour_list = []\n",
    "\n",
    "    with open(json_file, 'r') as json_data:\n",
    "        for line in json_data:\n",
    "            row = json.loads(line)\n",
    "            \n",
    "            bbox_info = ''\n",
    "            class_info = ''\n",
    "            contour_info = ''\n",
    "            \n",
    "            bbox_row_dict = {'image_path': pklot_file}\n",
    "            class_row_dict = {'image_path': pklot_file}\n",
    "            contour_row_dict = {'image_path': pklot_file}\n",
    "            \n",
    "            for segmented_data in row['spaces']:\n",
    "                bbox_info += '{} {} {} {} {} '.format(segmented_data['rotatedRect']['center']['x'], \n",
    "                                                      segmented_data['rotatedRect']['center']['y'], \n",
    "                                                      segmented_data['rotatedRect']['size']['h'], \n",
    "                                                      segmented_data['rotatedRect']['size']['w'], \n",
    "                                                      segmented_data['rotatedRect']['angle']['d'])\n",
    "                class_info += '{} '.format(segmented_data['occupied'])\n",
    "                \n",
    "                for contour in segmented_data['contour']:\n",
    "                    contour_info += '{} {} '.format(contour['x'], contour['y'])\n",
    "            \n",
    "            bbox_row_dict['rotated_bbox'] = bbox_info\n",
    "            bbox_row_dict['rotated_bbox'].rstrip()\n",
    "            bbox_list.append(bbox_row_dict)\n",
    "            \n",
    "            class_row_dict['occupied'] = class_info\n",
    "            class_row_dict['occupied'].rstrip()\n",
    "            class_list.append(class_row_dict)\n",
    "            \n",
    "            contour_row_dict['contours'] = contour_info\n",
    "            contour_row_dict['contours'].rstrip()\n",
    "            contour_list.append(contour_row_dict)\n",
    "    return bbox_list, class_list, contour_list\n"
   ]
  },
  {
   "cell_type": "code",
   "execution_count": 12,
   "metadata": {},
   "outputs": [
    {
     "data": {
      "application/vnd.jupyter.widget-view+json": {
       "model_id": "f42539124dd942c6908cc8d31b8b67ab",
       "version_major": 2,
       "version_minor": 0
      },
      "text/plain": [
       "HBox(children=(IntProgress(value=0, max=12417), HTML(value='')))"
      ]
     },
     "metadata": {},
     "output_type": "display_data"
    },
    {
     "name": "stdout",
     "output_type": "stream",
     "text": [
      "\n"
     ]
    }
   ],
   "source": [
    "bbox_data = []\n",
    "class_data = []\n",
    "contour_data = []\n",
    "\n",
    "for pklot_path, json_path in tqdm_notebook(zip(new_df['image_path'], new_df['json_path']), total=12417):\n",
    "    bbox_list, class_list, contour_list = jsonToList(pklot_path, json_path)\n",
    "    \n",
    "    bbox_data.extend(bbox_list)\n",
    "    class_data.extend(class_list)\n",
    "    contour_data.extend(contour_list)\n",
    "    \n",
    "    #data.extend(jsonToList(pklot_path, json_path))"
   ]
  },
  {
   "cell_type": "code",
   "execution_count": 13,
   "metadata": {},
   "outputs": [],
   "source": [
    "bbox_df = pd.DataFrame(bbox_data)\n",
    "class_df = pd.DataFrame(class_data)\n",
    "contour_df = pd.DataFrame(contour_data)"
   ]
  },
  {
   "cell_type": "code",
   "execution_count": 14,
   "metadata": {},
   "outputs": [],
   "source": [
    "bbox_df['rotated_bbox'] = bbox_df['rotated_bbox'].map(lambda x: x.rstrip())\n",
    "class_df['occupied'] = class_df['occupied'].map(lambda x: x.rstrip())\n",
    "contour_df['contours'] = contour_df['contours'].map(lambda x: x.rstrip())"
   ]
  },
  {
   "cell_type": "code",
   "execution_count": 15,
   "metadata": {},
   "outputs": [
    {
     "data": {
      "text/html": [
       "<div>\n",
       "<style scoped>\n",
       "    .dataframe tbody tr th:only-of-type {\n",
       "        vertical-align: middle;\n",
       "    }\n",
       "\n",
       "    .dataframe tbody tr th {\n",
       "        vertical-align: top;\n",
       "    }\n",
       "\n",
       "    .dataframe thead th {\n",
       "        text-align: right;\n",
       "    }\n",
       "</style>\n",
       "<table border=\"1\" class=\"dataframe\">\n",
       "  <thead>\n",
       "    <tr style=\"text-align: right;\">\n",
       "      <th></th>\n",
       "      <th>image_path</th>\n",
       "      <th>rotated_bbox</th>\n",
       "    </tr>\n",
       "  </thead>\n",
       "  <tbody>\n",
       "    <tr>\n",
       "      <th>0</th>\n",
       "      <td>PKLot/PKLot/UFPR04/Rainy/2013-01-18/2013-01-18...</td>\n",
       "      <td>651 636 141 83 -34 705 563 139 77 -44 732 480 ...</td>\n",
       "    </tr>\n",
       "    <tr>\n",
       "      <th>1</th>\n",
       "      <td>PKLot/PKLot/UFPR04/Rainy/2013-01-18/2013-01-18...</td>\n",
       "      <td>651 636 141 83 -34 705 563 139 77 -44 732 480 ...</td>\n",
       "    </tr>\n",
       "    <tr>\n",
       "      <th>2</th>\n",
       "      <td>PKLot/PKLot/UFPR04/Rainy/2013-01-18/2013-01-18...</td>\n",
       "      <td>651 636 141 83 -34 705 563 139 77 -44 732 480 ...</td>\n",
       "    </tr>\n",
       "    <tr>\n",
       "      <th>3</th>\n",
       "      <td>PKLot/PKLot/UFPR04/Rainy/2013-01-18/2013-01-18...</td>\n",
       "      <td>651 636 141 83 -34 705 563 139 77 -44 732 480 ...</td>\n",
       "    </tr>\n",
       "    <tr>\n",
       "      <th>4</th>\n",
       "      <td>PKLot/PKLot/UFPR04/Rainy/2013-01-18/2013-01-18...</td>\n",
       "      <td>651 636 141 83 -34 705 563 139 77 -44 732 480 ...</td>\n",
       "    </tr>\n",
       "  </tbody>\n",
       "</table>\n",
       "</div>"
      ],
      "text/plain": [
       "                                          image_path  \\\n",
       "0  PKLot/PKLot/UFPR04/Rainy/2013-01-18/2013-01-18...   \n",
       "1  PKLot/PKLot/UFPR04/Rainy/2013-01-18/2013-01-18...   \n",
       "2  PKLot/PKLot/UFPR04/Rainy/2013-01-18/2013-01-18...   \n",
       "3  PKLot/PKLot/UFPR04/Rainy/2013-01-18/2013-01-18...   \n",
       "4  PKLot/PKLot/UFPR04/Rainy/2013-01-18/2013-01-18...   \n",
       "\n",
       "                                        rotated_bbox  \n",
       "0  651 636 141 83 -34 705 563 139 77 -44 732 480 ...  \n",
       "1  651 636 141 83 -34 705 563 139 77 -44 732 480 ...  \n",
       "2  651 636 141 83 -34 705 563 139 77 -44 732 480 ...  \n",
       "3  651 636 141 83 -34 705 563 139 77 -44 732 480 ...  \n",
       "4  651 636 141 83 -34 705 563 139 77 -44 732 480 ...  "
      ]
     },
     "execution_count": 15,
     "metadata": {},
     "output_type": "execute_result"
    }
   ],
   "source": [
    "bbox_df.head()"
   ]
  },
  {
   "cell_type": "code",
   "execution_count": 16,
   "metadata": {},
   "outputs": [
    {
     "data": {
      "text/html": [
       "<div>\n",
       "<style scoped>\n",
       "    .dataframe tbody tr th:only-of-type {\n",
       "        vertical-align: middle;\n",
       "    }\n",
       "\n",
       "    .dataframe tbody tr th {\n",
       "        vertical-align: top;\n",
       "    }\n",
       "\n",
       "    .dataframe thead th {\n",
       "        text-align: right;\n",
       "    }\n",
       "</style>\n",
       "<table border=\"1\" class=\"dataframe\">\n",
       "  <thead>\n",
       "    <tr style=\"text-align: right;\">\n",
       "      <th></th>\n",
       "      <th>image_path</th>\n",
       "      <th>occupied</th>\n",
       "    </tr>\n",
       "  </thead>\n",
       "  <tbody>\n",
       "    <tr>\n",
       "      <th>0</th>\n",
       "      <td>PKLot/PKLot/UFPR04/Rainy/2013-01-18/2013-01-18...</td>\n",
       "      <td>0 1 1 0 0 0 0 0 0 1 0 0 0 0 0 0 0 0 0 0 1 0 0 ...</td>\n",
       "    </tr>\n",
       "    <tr>\n",
       "      <th>1</th>\n",
       "      <td>PKLot/PKLot/UFPR04/Rainy/2013-01-18/2013-01-18...</td>\n",
       "      <td>0 1 0 0 0 0 0 0 0 1 0 0 0 0 0 0 0 0 0 0 1 0 0 ...</td>\n",
       "    </tr>\n",
       "    <tr>\n",
       "      <th>2</th>\n",
       "      <td>PKLot/PKLot/UFPR04/Rainy/2013-01-18/2013-01-18...</td>\n",
       "      <td>1 1 1 0 0 0 0 0 0 1 0 0 0 0 0 1 0 0 0 0 0 0 0 ...</td>\n",
       "    </tr>\n",
       "    <tr>\n",
       "      <th>3</th>\n",
       "      <td>PKLot/PKLot/UFPR04/Rainy/2013-01-18/2013-01-18...</td>\n",
       "      <td>1 0 0 0 0 0 0 0 0 1 0 0 0 0 0 1 0 0 0 0 0 0 0 ...</td>\n",
       "    </tr>\n",
       "    <tr>\n",
       "      <th>4</th>\n",
       "      <td>PKLot/PKLot/UFPR04/Rainy/2013-01-18/2013-01-18...</td>\n",
       "      <td>1 1 0 0 0 0 0 0 0 1 0 0 0 0 0 1 0 0 0 0 0 0 0 ...</td>\n",
       "    </tr>\n",
       "  </tbody>\n",
       "</table>\n",
       "</div>"
      ],
      "text/plain": [
       "                                          image_path  \\\n",
       "0  PKLot/PKLot/UFPR04/Rainy/2013-01-18/2013-01-18...   \n",
       "1  PKLot/PKLot/UFPR04/Rainy/2013-01-18/2013-01-18...   \n",
       "2  PKLot/PKLot/UFPR04/Rainy/2013-01-18/2013-01-18...   \n",
       "3  PKLot/PKLot/UFPR04/Rainy/2013-01-18/2013-01-18...   \n",
       "4  PKLot/PKLot/UFPR04/Rainy/2013-01-18/2013-01-18...   \n",
       "\n",
       "                                            occupied  \n",
       "0  0 1 1 0 0 0 0 0 0 1 0 0 0 0 0 0 0 0 0 0 1 0 0 ...  \n",
       "1  0 1 0 0 0 0 0 0 0 1 0 0 0 0 0 0 0 0 0 0 1 0 0 ...  \n",
       "2  1 1 1 0 0 0 0 0 0 1 0 0 0 0 0 1 0 0 0 0 0 0 0 ...  \n",
       "3  1 0 0 0 0 0 0 0 0 1 0 0 0 0 0 1 0 0 0 0 0 0 0 ...  \n",
       "4  1 1 0 0 0 0 0 0 0 1 0 0 0 0 0 1 0 0 0 0 0 0 0 ...  "
      ]
     },
     "execution_count": 16,
     "metadata": {},
     "output_type": "execute_result"
    }
   ],
   "source": [
    "class_df.head()"
   ]
  },
  {
   "cell_type": "code",
   "execution_count": 17,
   "metadata": {},
   "outputs": [
    {
     "data": {
      "text/html": [
       "<div>\n",
       "<style scoped>\n",
       "    .dataframe tbody tr th:only-of-type {\n",
       "        vertical-align: middle;\n",
       "    }\n",
       "\n",
       "    .dataframe tbody tr th {\n",
       "        vertical-align: top;\n",
       "    }\n",
       "\n",
       "    .dataframe thead th {\n",
       "        text-align: right;\n",
       "    }\n",
       "</style>\n",
       "<table border=\"1\" class=\"dataframe\">\n",
       "  <thead>\n",
       "    <tr style=\"text-align: right;\">\n",
       "      <th></th>\n",
       "      <th>contours</th>\n",
       "      <th>image_path</th>\n",
       "    </tr>\n",
       "  </thead>\n",
       "  <tbody>\n",
       "    <tr>\n",
       "      <th>0</th>\n",
       "      <td>641 570 726 671 650 708 577 602 698 505 782 58...</td>\n",
       "      <td>PKLot/PKLot/UFPR04/Rainy/2013-01-18/2013-01-18...</td>\n",
       "    </tr>\n",
       "    <tr>\n",
       "      <th>1</th>\n",
       "      <td>641 570 726 671 650 708 577 602 698 505 782 58...</td>\n",
       "      <td>PKLot/PKLot/UFPR04/Rainy/2013-01-18/2013-01-18...</td>\n",
       "    </tr>\n",
       "    <tr>\n",
       "      <th>2</th>\n",
       "      <td>641 570 726 671 650 708 577 602 698 505 782 58...</td>\n",
       "      <td>PKLot/PKLot/UFPR04/Rainy/2013-01-18/2013-01-18...</td>\n",
       "    </tr>\n",
       "    <tr>\n",
       "      <th>3</th>\n",
       "      <td>641 570 726 671 650 708 577 602 698 505 782 58...</td>\n",
       "      <td>PKLot/PKLot/UFPR04/Rainy/2013-01-18/2013-01-18...</td>\n",
       "    </tr>\n",
       "    <tr>\n",
       "      <th>4</th>\n",
       "      <td>641 570 726 671 650 708 577 602 698 505 782 58...</td>\n",
       "      <td>PKLot/PKLot/UFPR04/Rainy/2013-01-18/2013-01-18...</td>\n",
       "    </tr>\n",
       "  </tbody>\n",
       "</table>\n",
       "</div>"
      ],
      "text/plain": [
       "                                            contours  \\\n",
       "0  641 570 726 671 650 708 577 602 698 505 782 58...   \n",
       "1  641 570 726 671 650 708 577 602 698 505 782 58...   \n",
       "2  641 570 726 671 650 708 577 602 698 505 782 58...   \n",
       "3  641 570 726 671 650 708 577 602 698 505 782 58...   \n",
       "4  641 570 726 671 650 708 577 602 698 505 782 58...   \n",
       "\n",
       "                                          image_path  \n",
       "0  PKLot/PKLot/UFPR04/Rainy/2013-01-18/2013-01-18...  \n",
       "1  PKLot/PKLot/UFPR04/Rainy/2013-01-18/2013-01-18...  \n",
       "2  PKLot/PKLot/UFPR04/Rainy/2013-01-18/2013-01-18...  \n",
       "3  PKLot/PKLot/UFPR04/Rainy/2013-01-18/2013-01-18...  \n",
       "4  PKLot/PKLot/UFPR04/Rainy/2013-01-18/2013-01-18...  "
      ]
     },
     "execution_count": 17,
     "metadata": {},
     "output_type": "execute_result"
    }
   ],
   "source": [
    "contour_df.head()"
   ]
  },
  {
   "cell_type": "code",
   "execution_count": 18,
   "metadata": {},
   "outputs": [
    {
     "name": "stdout",
     "output_type": "stream",
     "text": [
      "<class 'pandas.core.frame.DataFrame'>\n",
      "RangeIndex: 7943 entries, 0 to 7942\n",
      "Data columns (total 2 columns):\n",
      "image_path      7943 non-null object\n",
      "rotated_bbox    7943 non-null object\n",
      "dtypes: object(2)\n",
      "memory usage: 124.2+ KB\n"
     ]
    }
   ],
   "source": [
    "bbox_df.info()"
   ]
  },
  {
   "cell_type": "code",
   "execution_count": 19,
   "metadata": {},
   "outputs": [
    {
     "name": "stdout",
     "output_type": "stream",
     "text": [
      "<class 'pandas.core.frame.DataFrame'>\n",
      "RangeIndex: 7943 entries, 0 to 7942\n",
      "Data columns (total 2 columns):\n",
      "image_path    7943 non-null object\n",
      "occupied      7943 non-null object\n",
      "dtypes: object(2)\n",
      "memory usage: 124.2+ KB\n"
     ]
    }
   ],
   "source": [
    "class_df.info()"
   ]
  },
  {
   "cell_type": "code",
   "execution_count": 20,
   "metadata": {
    "scrolled": true
   },
   "outputs": [
    {
     "name": "stdout",
     "output_type": "stream",
     "text": [
      "<class 'pandas.core.frame.DataFrame'>\n",
      "RangeIndex: 7943 entries, 0 to 7942\n",
      "Data columns (total 2 columns):\n",
      "contours      7943 non-null object\n",
      "image_path    7943 non-null object\n",
      "dtypes: object(2)\n",
      "memory usage: 124.2+ KB\n"
     ]
    }
   ],
   "source": [
    "contour_df.info()"
   ]
  },
  {
   "cell_type": "code",
   "execution_count": 21,
   "metadata": {},
   "outputs": [],
   "source": [
    "data_PUCPR = pd.read_csv('PUCPR_cropped.csv')"
   ]
  },
  {
   "cell_type": "code",
   "execution_count": 22,
   "metadata": {},
   "outputs": [],
   "source": [
    "data_UFPRs = class_df.merge(bbox_df, left_on='image_path', right_on='image_path')"
   ]
  },
  {
   "cell_type": "code",
   "execution_count": 23,
   "metadata": {
    "scrolled": true
   },
   "outputs": [
    {
     "data": {
      "text/html": [
       "<div>\n",
       "<style scoped>\n",
       "    .dataframe tbody tr th:only-of-type {\n",
       "        vertical-align: middle;\n",
       "    }\n",
       "\n",
       "    .dataframe tbody tr th {\n",
       "        vertical-align: top;\n",
       "    }\n",
       "\n",
       "    .dataframe thead th {\n",
       "        text-align: right;\n",
       "    }\n",
       "</style>\n",
       "<table border=\"1\" class=\"dataframe\">\n",
       "  <thead>\n",
       "    <tr style=\"text-align: right;\">\n",
       "      <th></th>\n",
       "      <th>image_path</th>\n",
       "      <th>occupied</th>\n",
       "      <th>rotated_bbox</th>\n",
       "    </tr>\n",
       "  </thead>\n",
       "  <tbody>\n",
       "    <tr>\n",
       "      <th>0</th>\n",
       "      <td>PKLot/AugPKLot/PUCPR/Rainy/2012-11-10/2012-11-...</td>\n",
       "      <td>1 1 1 1 1 1 1 1 1 1 1 1 1 1 1 1 1 1 1 1 1 1 1 ...</td>\n",
       "      <td>13 16 32 52 -77 45 15 36 54 -79 77 18 31 50 -7...</td>\n",
       "    </tr>\n",
       "    <tr>\n",
       "      <th>1</th>\n",
       "      <td>PKLot/AugPKLot/PUCPR/Rainy/2012-11-10/2012-11-...</td>\n",
       "      <td>1 1 1 1 1 1 1 1 1 1 1 1 1 1 1 1 1 1 1 1 1 1 1 ...</td>\n",
       "      <td>13 16 32 52 -77 45 15 36 54 -79 77 18 31 50 -7...</td>\n",
       "    </tr>\n",
       "    <tr>\n",
       "      <th>2</th>\n",
       "      <td>PKLot/AugPKLot/PUCPR/Rainy/2012-11-10/2012-11-...</td>\n",
       "      <td>1 1 1 1 1 1 1 1 1 1 1 1 1 1 1 1 1 1 1 1 1 1 1 ...</td>\n",
       "      <td>13 16 32 52 -77 45 15 36 54 -79 77 18 31 50 -7...</td>\n",
       "    </tr>\n",
       "    <tr>\n",
       "      <th>3</th>\n",
       "      <td>PKLot/AugPKLot/PUCPR/Rainy/2012-11-10/2012-11-...</td>\n",
       "      <td>0 0 0 0 0 0 0 0 0 0 0 0 0 0 0 0 0 0 0 0 0 0 0 ...</td>\n",
       "      <td>13 16 32 52 -77 45 15 36 54 -79 77 18 31 50 -7...</td>\n",
       "    </tr>\n",
       "    <tr>\n",
       "      <th>4</th>\n",
       "      <td>PKLot/AugPKLot/PUCPR/Rainy/2012-11-10/2012-11-...</td>\n",
       "      <td>1 1 1 1 1 1 1 1 1 1 1 1 1 1 1 1 1 1 1 1 1 1 1 ...</td>\n",
       "      <td>13 16 32 52 -77 45 15 36 54 -79 77 18 31 50 -7...</td>\n",
       "    </tr>\n",
       "  </tbody>\n",
       "</table>\n",
       "</div>"
      ],
      "text/plain": [
       "                                          image_path  \\\n",
       "0  PKLot/AugPKLot/PUCPR/Rainy/2012-11-10/2012-11-...   \n",
       "1  PKLot/AugPKLot/PUCPR/Rainy/2012-11-10/2012-11-...   \n",
       "2  PKLot/AugPKLot/PUCPR/Rainy/2012-11-10/2012-11-...   \n",
       "3  PKLot/AugPKLot/PUCPR/Rainy/2012-11-10/2012-11-...   \n",
       "4  PKLot/AugPKLot/PUCPR/Rainy/2012-11-10/2012-11-...   \n",
       "\n",
       "                                            occupied  \\\n",
       "0  1 1 1 1 1 1 1 1 1 1 1 1 1 1 1 1 1 1 1 1 1 1 1 ...   \n",
       "1  1 1 1 1 1 1 1 1 1 1 1 1 1 1 1 1 1 1 1 1 1 1 1 ...   \n",
       "2  1 1 1 1 1 1 1 1 1 1 1 1 1 1 1 1 1 1 1 1 1 1 1 ...   \n",
       "3  0 0 0 0 0 0 0 0 0 0 0 0 0 0 0 0 0 0 0 0 0 0 0 ...   \n",
       "4  1 1 1 1 1 1 1 1 1 1 1 1 1 1 1 1 1 1 1 1 1 1 1 ...   \n",
       "\n",
       "                                        rotated_bbox  \n",
       "0  13 16 32 52 -77 45 15 36 54 -79 77 18 31 50 -7...  \n",
       "1  13 16 32 52 -77 45 15 36 54 -79 77 18 31 50 -7...  \n",
       "2  13 16 32 52 -77 45 15 36 54 -79 77 18 31 50 -7...  \n",
       "3  13 16 32 52 -77 45 15 36 54 -79 77 18 31 50 -7...  \n",
       "4  13 16 32 52 -77 45 15 36 54 -79 77 18 31 50 -7...  "
      ]
     },
     "execution_count": 23,
     "metadata": {},
     "output_type": "execute_result"
    }
   ],
   "source": [
    "data_PUCPR.head()"
   ]
  },
  {
   "cell_type": "code",
   "execution_count": 24,
   "metadata": {
    "scrolled": true
   },
   "outputs": [
    {
     "data": {
      "text/html": [
       "<div>\n",
       "<style scoped>\n",
       "    .dataframe tbody tr th:only-of-type {\n",
       "        vertical-align: middle;\n",
       "    }\n",
       "\n",
       "    .dataframe tbody tr th {\n",
       "        vertical-align: top;\n",
       "    }\n",
       "\n",
       "    .dataframe thead th {\n",
       "        text-align: right;\n",
       "    }\n",
       "</style>\n",
       "<table border=\"1\" class=\"dataframe\">\n",
       "  <thead>\n",
       "    <tr style=\"text-align: right;\">\n",
       "      <th></th>\n",
       "      <th>image_path</th>\n",
       "      <th>occupied</th>\n",
       "      <th>rotated_bbox</th>\n",
       "    </tr>\n",
       "  </thead>\n",
       "  <tbody>\n",
       "    <tr>\n",
       "      <th>0</th>\n",
       "      <td>PKLot/PKLot/UFPR04/Rainy/2013-01-18/2013-01-18...</td>\n",
       "      <td>0 1 1 0 0 0 0 0 0 1 0 0 0 0 0 0 0 0 0 0 1 0 0 ...</td>\n",
       "      <td>651 636 141 83 -34 705 563 139 77 -44 732 480 ...</td>\n",
       "    </tr>\n",
       "    <tr>\n",
       "      <th>1</th>\n",
       "      <td>PKLot/PKLot/UFPR04/Rainy/2013-01-18/2013-01-18...</td>\n",
       "      <td>0 1 0 0 0 0 0 0 0 1 0 0 0 0 0 0 0 0 0 0 1 0 0 ...</td>\n",
       "      <td>651 636 141 83 -34 705 563 139 77 -44 732 480 ...</td>\n",
       "    </tr>\n",
       "    <tr>\n",
       "      <th>2</th>\n",
       "      <td>PKLot/PKLot/UFPR04/Rainy/2013-01-18/2013-01-18...</td>\n",
       "      <td>1 1 1 0 0 0 0 0 0 1 0 0 0 0 0 1 0 0 0 0 0 0 0 ...</td>\n",
       "      <td>651 636 141 83 -34 705 563 139 77 -44 732 480 ...</td>\n",
       "    </tr>\n",
       "    <tr>\n",
       "      <th>3</th>\n",
       "      <td>PKLot/PKLot/UFPR04/Rainy/2013-01-18/2013-01-18...</td>\n",
       "      <td>1 0 0 0 0 0 0 0 0 1 0 0 0 0 0 1 0 0 0 0 0 0 0 ...</td>\n",
       "      <td>651 636 141 83 -34 705 563 139 77 -44 732 480 ...</td>\n",
       "    </tr>\n",
       "    <tr>\n",
       "      <th>4</th>\n",
       "      <td>PKLot/PKLot/UFPR04/Rainy/2013-01-18/2013-01-18...</td>\n",
       "      <td>1 1 0 0 0 0 0 0 0 1 0 0 0 0 0 1 0 0 0 0 0 0 0 ...</td>\n",
       "      <td>651 636 141 83 -34 705 563 139 77 -44 732 480 ...</td>\n",
       "    </tr>\n",
       "  </tbody>\n",
       "</table>\n",
       "</div>"
      ],
      "text/plain": [
       "                                          image_path  \\\n",
       "0  PKLot/PKLot/UFPR04/Rainy/2013-01-18/2013-01-18...   \n",
       "1  PKLot/PKLot/UFPR04/Rainy/2013-01-18/2013-01-18...   \n",
       "2  PKLot/PKLot/UFPR04/Rainy/2013-01-18/2013-01-18...   \n",
       "3  PKLot/PKLot/UFPR04/Rainy/2013-01-18/2013-01-18...   \n",
       "4  PKLot/PKLot/UFPR04/Rainy/2013-01-18/2013-01-18...   \n",
       "\n",
       "                                            occupied  \\\n",
       "0  0 1 1 0 0 0 0 0 0 1 0 0 0 0 0 0 0 0 0 0 1 0 0 ...   \n",
       "1  0 1 0 0 0 0 0 0 0 1 0 0 0 0 0 0 0 0 0 0 1 0 0 ...   \n",
       "2  1 1 1 0 0 0 0 0 0 1 0 0 0 0 0 1 0 0 0 0 0 0 0 ...   \n",
       "3  1 0 0 0 0 0 0 0 0 1 0 0 0 0 0 1 0 0 0 0 0 0 0 ...   \n",
       "4  1 1 0 0 0 0 0 0 0 1 0 0 0 0 0 1 0 0 0 0 0 0 0 ...   \n",
       "\n",
       "                                        rotated_bbox  \n",
       "0  651 636 141 83 -34 705 563 139 77 -44 732 480 ...  \n",
       "1  651 636 141 83 -34 705 563 139 77 -44 732 480 ...  \n",
       "2  651 636 141 83 -34 705 563 139 77 -44 732 480 ...  \n",
       "3  651 636 141 83 -34 705 563 139 77 -44 732 480 ...  \n",
       "4  651 636 141 83 -34 705 563 139 77 -44 732 480 ...  "
      ]
     },
     "execution_count": 24,
     "metadata": {},
     "output_type": "execute_result"
    }
   ],
   "source": [
    "data_UFPRs.head()"
   ]
  },
  {
   "cell_type": "code",
   "execution_count": 25,
   "metadata": {},
   "outputs": [],
   "source": [
    "data_combined = data_UFPRs.append(data_PUCPR, ignore_index=True)"
   ]
  },
  {
   "cell_type": "code",
   "execution_count": 26,
   "metadata": {},
   "outputs": [
    {
     "data": {
      "text/html": [
       "<div>\n",
       "<style scoped>\n",
       "    .dataframe tbody tr th:only-of-type {\n",
       "        vertical-align: middle;\n",
       "    }\n",
       "\n",
       "    .dataframe tbody tr th {\n",
       "        vertical-align: top;\n",
       "    }\n",
       "\n",
       "    .dataframe thead th {\n",
       "        text-align: right;\n",
       "    }\n",
       "</style>\n",
       "<table border=\"1\" class=\"dataframe\">\n",
       "  <thead>\n",
       "    <tr style=\"text-align: right;\">\n",
       "      <th></th>\n",
       "      <th>image_path</th>\n",
       "      <th>occupied</th>\n",
       "      <th>rotated_bbox</th>\n",
       "    </tr>\n",
       "  </thead>\n",
       "  <tbody>\n",
       "    <tr>\n",
       "      <th>0</th>\n",
       "      <td>PKLot/PKLot/UFPR04/Rainy/2013-01-18/2013-01-18...</td>\n",
       "      <td>0 1 1 0 0 0 0 0 0 1 0 0 0 0 0 0 0 0 0 0 1 0 0 ...</td>\n",
       "      <td>651 636 141 83 -34 705 563 139 77 -44 732 480 ...</td>\n",
       "    </tr>\n",
       "    <tr>\n",
       "      <th>1</th>\n",
       "      <td>PKLot/PKLot/UFPR04/Rainy/2013-01-18/2013-01-18...</td>\n",
       "      <td>0 1 0 0 0 0 0 0 0 1 0 0 0 0 0 0 0 0 0 0 1 0 0 ...</td>\n",
       "      <td>651 636 141 83 -34 705 563 139 77 -44 732 480 ...</td>\n",
       "    </tr>\n",
       "    <tr>\n",
       "      <th>2</th>\n",
       "      <td>PKLot/PKLot/UFPR04/Rainy/2013-01-18/2013-01-18...</td>\n",
       "      <td>1 1 1 0 0 0 0 0 0 1 0 0 0 0 0 1 0 0 0 0 0 0 0 ...</td>\n",
       "      <td>651 636 141 83 -34 705 563 139 77 -44 732 480 ...</td>\n",
       "    </tr>\n",
       "    <tr>\n",
       "      <th>3</th>\n",
       "      <td>PKLot/PKLot/UFPR04/Rainy/2013-01-18/2013-01-18...</td>\n",
       "      <td>1 0 0 0 0 0 0 0 0 1 0 0 0 0 0 1 0 0 0 0 0 0 0 ...</td>\n",
       "      <td>651 636 141 83 -34 705 563 139 77 -44 732 480 ...</td>\n",
       "    </tr>\n",
       "    <tr>\n",
       "      <th>4</th>\n",
       "      <td>PKLot/PKLot/UFPR04/Rainy/2013-01-18/2013-01-18...</td>\n",
       "      <td>1 1 0 0 0 0 0 0 0 1 0 0 0 0 0 1 0 0 0 0 0 0 0 ...</td>\n",
       "      <td>651 636 141 83 -34 705 563 139 77 -44 732 480 ...</td>\n",
       "    </tr>\n",
       "  </tbody>\n",
       "</table>\n",
       "</div>"
      ],
      "text/plain": [
       "                                          image_path  \\\n",
       "0  PKLot/PKLot/UFPR04/Rainy/2013-01-18/2013-01-18...   \n",
       "1  PKLot/PKLot/UFPR04/Rainy/2013-01-18/2013-01-18...   \n",
       "2  PKLot/PKLot/UFPR04/Rainy/2013-01-18/2013-01-18...   \n",
       "3  PKLot/PKLot/UFPR04/Rainy/2013-01-18/2013-01-18...   \n",
       "4  PKLot/PKLot/UFPR04/Rainy/2013-01-18/2013-01-18...   \n",
       "\n",
       "                                            occupied  \\\n",
       "0  0 1 1 0 0 0 0 0 0 1 0 0 0 0 0 0 0 0 0 0 1 0 0 ...   \n",
       "1  0 1 0 0 0 0 0 0 0 1 0 0 0 0 0 0 0 0 0 0 1 0 0 ...   \n",
       "2  1 1 1 0 0 0 0 0 0 1 0 0 0 0 0 1 0 0 0 0 0 0 0 ...   \n",
       "3  1 0 0 0 0 0 0 0 0 1 0 0 0 0 0 1 0 0 0 0 0 0 0 ...   \n",
       "4  1 1 0 0 0 0 0 0 0 1 0 0 0 0 0 1 0 0 0 0 0 0 0 ...   \n",
       "\n",
       "                                        rotated_bbox  \n",
       "0  651 636 141 83 -34 705 563 139 77 -44 732 480 ...  \n",
       "1  651 636 141 83 -34 705 563 139 77 -44 732 480 ...  \n",
       "2  651 636 141 83 -34 705 563 139 77 -44 732 480 ...  \n",
       "3  651 636 141 83 -34 705 563 139 77 -44 732 480 ...  \n",
       "4  651 636 141 83 -34 705 563 139 77 -44 732 480 ...  "
      ]
     },
     "execution_count": 26,
     "metadata": {},
     "output_type": "execute_result"
    }
   ],
   "source": [
    "data_combined.head()"
   ]
  },
  {
   "cell_type": "code",
   "execution_count": 27,
   "metadata": {},
   "outputs": [
    {
     "name": "stdout",
     "output_type": "stream",
     "text": [
      "<class 'pandas.core.frame.DataFrame'>\n",
      "RangeIndex: 12416 entries, 0 to 12415\n",
      "Data columns (total 3 columns):\n",
      "image_path      12416 non-null object\n",
      "occupied        12416 non-null object\n",
      "rotated_bbox    12416 non-null object\n",
      "dtypes: object(3)\n",
      "memory usage: 291.1+ KB\n"
     ]
    }
   ],
   "source": [
    "data_combined.info()"
   ]
  },
  {
   "cell_type": "code",
   "execution_count": 28,
   "metadata": {},
   "outputs": [],
   "source": [
    "data_combined.to_csv('pklot_combined_bbox_rbox.csv', index=False)"
   ]
  },
  {
   "cell_type": "code",
   "execution_count": null,
   "metadata": {},
   "outputs": [],
   "source": [
    "# bbox_df.to_csv('pklot_bbox_data.csv', index=False)\n",
    "# class_df.to_csv('pklot_class_data.csv', index=False)\n",
    "# contour_df.to_csv('pklot_contour_data.csv', index=False)"
   ]
  },
  {
   "cell_type": "code",
   "execution_count": null,
   "metadata": {},
   "outputs": [],
   "source": []
  }
 ],
 "metadata": {
  "kernelspec": {
   "display_name": "Python 3",
   "language": "python",
   "name": "python3"
  },
  "language_info": {
   "codemirror_mode": {
    "name": "ipython",
    "version": 3
   },
   "file_extension": ".py",
   "mimetype": "text/x-python",
   "name": "python",
   "nbconvert_exporter": "python",
   "pygments_lexer": "ipython3",
   "version": "3.6.8"
  }
 },
 "nbformat": 4,
 "nbformat_minor": 2
}
